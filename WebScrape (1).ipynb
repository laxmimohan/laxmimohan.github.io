{
 "cells": [
  {
   "cell_type": "code",
   "execution_count": null,
   "metadata": {},
   "outputs": [],
   "source": [
    "import time\n",
    "from splinter import Browser\n",
    "from bs4 import BeautifulSoup as bs\n",
    "import pandas as pd\n",
    "import numpy as np\n",
    "from selenium import webdriver\n",
    "import requests as req\n",
    "import pymongo\n",
    "from splinter import Browser"
   ]
  },
  {
   "cell_type": "code",
   "execution_count": null,
   "metadata": {},
   "outputs": [],
   "source": [
    "from splinter import Browser\n",
    "from selenium import webdriver"
   ]
  },
  {
   "cell_type": "code",
   "execution_count": null,
   "metadata": {},
   "outputs": [],
   "source": [
    "#scrape the NASA Mars News SIte, collect news title, paragraph text, assign\n",
    "#to variables for later reference"
   ]
  },
  {
   "cell_type": "code",
   "execution_count": null,
   "metadata": {},
   "outputs": [],
   "source": [
    "def scrape(): \n",
    "    url = \"https://mars.nasa.gov/news/\"\n",
    "    response = req.get(url)\n",
    "    soup = bs(response.text, 'html5lib')"
   ]
  },
  {
   "cell_type": "code",
   "execution_count": null,
   "metadata": {},
   "outputs": [],
   "source": [
    "news_title = soup.find(\"div\", class_=\"content_title\").text\n",
    "paragraph_text = soup.find(\"div\", class_=\"rollover_description_inner\").text"
   ]
  },
  {
   "cell_type": "code",
   "execution_count": null,
   "metadata": {},
   "outputs": [],
   "source": [
    "#set up splinter\n",
    "    executable_path = {'executable_path' : 'chromedriver'}\n",
    "    browser = Browser('chrome', **executable_path, headless=False)\n",
    "    url = \"https://www.jpl.nasa.gov/spaceimages/?search=&category=Mars\"\n",
    "    browser.visit(url)"
   ]
  },
  {
   "cell_type": "code",
   "execution_count": null,
   "metadata": {},
   "outputs": [],
   "source": [
    "    html = browser.html\n",
    "    soup = bs(html, \"html.parser\")"
   ]
  },
  {
   "cell_type": "code",
   "execution_count": null,
   "metadata": {},
   "outputs": [],
   "source": [
    "#html = browser.html\n",
    "#soup = BeautifulSoup(html, 'html.parser')"
   ]
  },
  {
   "cell_type": "code",
   "execution_count": null,
   "metadata": {
    "scrolled": true
   },
   "outputs": [],
   "source": [
    "#have webdriver click links to get to the full image I want\n",
    "  browser.click_link_by_partial_text('FULL IMAGE')"
   ]
  },
  {
   "cell_type": "code",
   "execution_count": null,
   "metadata": {},
   "outputs": [],
   "source": [
    " time.sleep(5)\n",
    "    browser.click_link_by_partial_text('more info')\n",
    "\n",
    "#stir new soup for scraping the image url\n",
    "    new_html = browser.html\n",
    "    new_soup = bs(new_html, 'html.parser')\n",
    "    temp_img_url = new_soup.find('img', class_='main_image')\n",
    "    back_half_img_url = temp_img_url.get('src')"
   ]
  },
  {
   "cell_type": "code",
   "execution_count": null,
   "metadata": {},
   "outputs": [],
   "source": [
    "recent_mars_image_url = \"https://www.jpl.nasa.gov\" + back_half_img_url\n",
    "#browser.visit(url)"
   ]
  },
  {
   "cell_type": "code",
   "execution_count": null,
   "metadata": {},
   "outputs": [],
   "source": [
    "#get mars weather. THE INSTRUCTIONS SAY SPECIFICALLY TO SCRAPE THE DATA\n",
    "#stir soup\n",
    "    twitter_response = req.get(\"https://twitter.com/marswxreport?lang=en\")\n",
    "    twitter_soup = bs(twitter_response.text, 'html.parser')"
   ]
  },
  {
   "cell_type": "code",
   "execution_count": null,
   "metadata": {},
   "outputs": [],
   "source": [
    "#use find_all to get all the tweets on the page, scan the 10 most recent for \"Sol\"\n",
    "    tweet_containers = twitter_soup.find_all('div', class_=\"js-tweet-text-container\")\n",
    "    for i in range(10):\n",
    "        tweets = tweet_containers[i].text\n",
    "        if \"Sol \" in tweets:\n",
    "            mars_weather = tweets\n",
    "            break"
   ]
  },
  {
   "cell_type": "code",
   "execution_count": null,
   "metadata": {},
   "outputs": [],
   "source": [
    "#Mars Facts....visit webpage, use pandas to scrape the page for facts,\n",
    "#convert pandas table to html table string.\n",
    "    request_mars_space_facts = req.get(\"https://space-facts.com/mars/\")"
   ]
  },
  {
   "cell_type": "code",
   "execution_count": null,
   "metadata": {},
   "outputs": [],
   "source": [
    "#use pandas to scrape html table data\n",
    "    mars_space_table_read = pd.read_html(request_mars_space_facts.text)\n",
    "    df = mars_space_table_read[0]"
   ]
  },
  {
   "cell_type": "code",
   "execution_count": null,
   "metadata": {},
   "outputs": [],
   "source": [
    "#set the index to the titles of each statistic/value\n",
    "    df.set_index(0, inplace=True)\n",
    "    mars_data_df = df"
   ]
  },
  {
   "cell_type": "code",
   "execution_count": null,
   "metadata": {},
   "outputs": [],
   "source": [
    "#convert new pandas df to html, replace \"\\n\" to get html code\n",
    "    mars_data_html = mars_data_df.to_html()\n",
    "    mars_data_html.replace('\\n', '')\n",
    "    mars_data_df.to_html('mars_table.html')"
   ]
  },
  {
   "cell_type": "code",
   "execution_count": null,
   "metadata": {},
   "outputs": [],
   "source": [
    "#..Visit the USGS Astrogeology site to obtain hgih resolution images for\n",
    "#....each of Mar's hemispheres\n",
    "    usgs_url = \"https://astrogeology.usgs.gov/search/results?q=hemisphere+enhanced&k1=target&v1=Mars\"\n",
    "    usgs_req = req.get(usgs_url)"
   ]
  },
  {
   "cell_type": "code",
   "execution_count": null,
   "metadata": {},
   "outputs": [],
   "source": [
    "\n",
    "#list to keep the dictionaries that have title and image url\n",
    "    hemisphere_image_urls = []\n",
    "    for hemi_img in hemi_attributes_list:\n",
    "        #get the img title\n",
    "        img_title = hemi_img.find('h3').text\n",
    "        #print(img_title)\n",
    "        #get the link to stir another soup, this is the page with the actual image url\n",
    "        link_to_img = \"https://astrogeology.usgs.gov/\" + hemi_img['href']\n",
    "        #print(link_to_img)\n",
    "        img_request = req.get(link_to_img)\n",
    "        soup = bs(img_request.text, 'lxml')\n",
    "        img_tag = soup.find('div', class_='downloads')\n",
    "        img_url = img_tag.find('a')['href']\n",
    "        hemisphere_image_urls.append({\"Title\": img_title, \"Image_Url\": img_url})"
   ]
  },
  {
   "cell_type": "code",
   "execution_count": null,
   "metadata": {},
   "outputs": [],
   "source": [
    " mars_data = {\n",
    "   \"News_Title\": news_title,\n",
    "   \"Paragraph_Text\": paragraph_text,\n",
    "   \"Most_Recent_Mars_Image\": recent_mars_image_url,\n",
    "   \"Mars_Weather\": mars_weather,\n",
    "   \"mars_h\": hemisphere_image_urls\n",
    "   }"
   ]
  },
  {
   "cell_type": "code",
   "execution_count": null,
   "metadata": {},
   "outputs": [],
   "source": [
    "return mars_data"
   ]
  },
  {
   "cell_type": "code",
   "execution_count": null,
   "metadata": {},
   "outputs": [],
   "source": []
  }
 ],
 "metadata": {
  "kernelspec": {
   "display_name": "Python 3",
   "language": "python",
   "name": "python3"
  },
  "language_info": {
   "codemirror_mode": {
    "name": "ipython",
    "version": 3
   },
   "file_extension": ".py",
   "mimetype": "text/x-python",
   "name": "python",
   "nbconvert_exporter": "python",
   "pygments_lexer": "ipython3",
   "version": "3.6.5"
  }
 },
 "nbformat": 4,
 "nbformat_minor": 2
}
